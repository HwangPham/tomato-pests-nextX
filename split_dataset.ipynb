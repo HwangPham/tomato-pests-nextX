{
  "nbformat": 4,
  "nbformat_minor": 0,
  "metadata": {
    "colab": {
      "provenance": [],
      "authorship_tag": "ABX9TyNWBF8f8GwsWhMhJH/JZT7Q",
      "include_colab_link": true
    },
    "kernelspec": {
      "name": "python3",
      "display_name": "Python 3"
    },
    "language_info": {
      "name": "python"
    }
  },
  "cells": [
    {
      "cell_type": "markdown",
      "metadata": {
        "id": "view-in-github",
        "colab_type": "text"
      },
      "source": [
        "<a href=\"https://colab.research.google.com/github/HwangPham/tomato-pests-nextX/blob/main/split_dataset.ipynb\" target=\"_parent\"><img src=\"https://colab.research.google.com/assets/colab-badge.svg\" alt=\"Open In Colab\"/></a>"
      ]
    },
    {
      "cell_type": "code",
      "execution_count": null,
      "metadata": {
        "colab": {
          "base_uri": "https://localhost:8080/"
        },
        "id": "FwiXv-FZSJdg",
        "outputId": "74e3e5d2-5a1e-4f40-b39b-19e715f08413"
      },
      "outputs": [
        {
          "output_type": "stream",
          "name": "stdout",
          "text": [
            "Mounted at /content/drive\n"
          ]
        }
      ],
      "source": [
        "from google.colab import drive\n",
        "drive.mount('/content/drive')\n",
        "\n",
        "import os\n",
        "import shutil\n",
        "import random"
      ]
    },
    {
      "cell_type": "code",
      "source": [
        "!pwd"
      ],
      "metadata": {
        "colab": {
          "base_uri": "https://localhost:8080/"
        },
        "id": "w4THxDytTyUo",
        "outputId": "b26c476f-74bf-44d5-eca1-1aa71334c803"
      },
      "execution_count": null,
      "outputs": [
        {
          "output_type": "stream",
          "name": "stdout",
          "text": [
            "/content\n"
          ]
        }
      ]
    },
    {
      "cell_type": "code",
      "source": [
        "os.makedirs('/content/drive/MyDrive/NextX/new-data/image/train', exist_ok=True)\n",
        "os.makedirs('/content/drive/MyDrive/NextX/new-data/image/val', exist_ok=True)\n",
        "os.makedirs('/content/drive/MyDrive/NextX/new-data/label/train', exist_ok=True)\n",
        "os.makedirs('/content/drive/MyDrive/NextX/new-data/label/val', exist_ok=True)"
      ],
      "metadata": {
        "id": "Uhsn5hmLT53Y"
      },
      "execution_count": null,
      "outputs": []
    },
    {
      "cell_type": "code",
      "source": [
        "image_files = [f for f in os.listdir('/content/drive/MyDrive/NextX/new-data/image') if f.endswith('.jpg')]\n",
        "random.shuffle(image_files)"
      ],
      "metadata": {
        "id": "Za8nwyLxUeLz"
      },
      "execution_count": null,
      "outputs": []
    },
    {
      "cell_type": "code",
      "source": [
        "split_index = int(len(image_files) * 0.7)\n",
        "train_files = image_files[:split_index]\n",
        "val_files = image_files[split_index:]"
      ],
      "metadata": {
        "id": "4XtHk9HAUpgF"
      },
      "execution_count": null,
      "outputs": []
    },
    {
      "cell_type": "code",
      "source": [
        "def move_files(files, src_img_dir, src_lbl_dir, dst_img_dir, dst_lbl_dir):\n",
        "    for file in files:\n",
        "        label_file = file.replace('.jpg', '.txt')\n",
        "        src_img_path = os.path.join(src_img_dir, file)\n",
        "        src_lbl_path = os.path.join(src_lbl_dir, label_file)\n",
        "        dst_img_path = os.path.join(dst_img_dir, file)\n",
        "        dst_lbl_path = os.path.join(dst_lbl_dir, label_file)\n",
        "\n",
        "        # Check if both image and label files exist\n",
        "        if os.path.exists(src_img_path) and os.path.exists(src_lbl_path):\n",
        "            shutil.move(src_img_path, dst_img_path)\n",
        "            shutil.move(src_lbl_path, dst_lbl_path)\n",
        "        else:\n",
        "            print(f\"Missing label for {file}, skipping...\")"
      ],
      "metadata": {
        "id": "ktoccr4aUtjI"
      },
      "execution_count": null,
      "outputs": []
    },
    {
      "cell_type": "code",
      "source": [
        "# Paths\n",
        "image_dir = '/content/drive/MyDrive/NextX/new-data/image'\n",
        "label_dir = '/content/drive/MyDrive/NextX/new-data/label'"
      ],
      "metadata": {
        "id": "axTAeeSUb9Rl"
      },
      "execution_count": null,
      "outputs": []
    },
    {
      "cell_type": "code",
      "source": [
        "# Move the files to train and val directories\n",
        "move_files(train_files, image_dir, label_dir, f'{image_dir}/train', f'{label_dir}/train')\n",
        "move_files(val_files, image_dir, label_dir, f'{image_dir}/val', f'{label_dir}/val')"
      ],
      "metadata": {
        "colab": {
          "base_uri": "https://localhost:8080/"
        },
        "id": "NHoxixuYbow1",
        "outputId": "82f44633-5c1a-4681-cd24-e5e1f1797574"
      },
      "execution_count": null,
      "outputs": [
        {
          "output_type": "stream",
          "name": "stdout",
          "text": [
            "Missing label for IMG20220323081854_aug5.jpg, skipping...\n",
            "Missing label for IMG20220323081618_01.jpg, skipping...\n",
            "Missing label for IMG20220323081701_aug4.jpg, skipping...\n",
            "Missing label for IMG20220323081747_aug4.jpg, skipping...\n",
            "Missing label for IMG20220323081559.jpg, skipping...\n",
            "Missing label for IMG20220323081733.jpg, skipping...\n",
            "Missing label for IMG20220323081733_aug5.jpg, skipping...\n",
            "Missing label for IMG20220323081733_aug6.jpg, skipping...\n",
            "Missing label for IMG20220323081733_aug3.jpg, skipping...\n",
            "Missing label for IMG20220323081733_aug4.jpg, skipping...\n",
            "Missing label for IMG20220323081747_aug7.jpg, skipping...\n",
            "Missing label for IMG20220323081733_aug2.jpg, skipping...\n",
            "Missing label for IMG20220323081733_aug7.jpg, skipping...\n"
          ]
        }
      ]
    },
    {
      "cell_type": "code",
      "source": [
        "# Verify the split\n",
        "print(\"Training images:\", len(os.listdir(f'{image_dir}/train')))\n",
        "print(\"Validation images:\", len(os.listdir(f'{image_dir}/val')))\n",
        "print(\"Training labels:\", len(os.listdir(f'{label_dir}/train')))\n",
        "print(\"Validation labels:\", len(os.listdir(f'{label_dir}/val')))"
      ],
      "metadata": {
        "colab": {
          "base_uri": "https://localhost:8080/"
        },
        "id": "LAX0a15ZcAyi",
        "outputId": "42e97e9a-7e5a-4c95-98da-1a10e4cfd1b9"
      },
      "execution_count": null,
      "outputs": [
        {
          "output_type": "stream",
          "name": "stdout",
          "text": [
            "Training images: 125\n",
            "Validation images: 55\n",
            "Training labels: 124\n",
            "Validation labels: 55\n"
          ]
        }
      ]
    }
  ]
}